{
  "cells": [
    {
      "cell_type": "markdown",
      "metadata": {
        "id": "view-in-github",
        "colab_type": "text"
      },
      "source": [
        "<a href=\"https://colab.research.google.com/github/andfelipe1/MLMIAD2024/blob/main/S1TC1_arboles_ensamblajes_Andres_gualdron.ipynb\" target=\"_parent\"><img src=\"https://colab.research.google.com/assets/colab-badge.svg\" alt=\"Open In Colab\"/></a>"
      ]
    },
    {
      "cell_type": "markdown",
      "metadata": {
        "id": "nM1nRWnTXeIw"
      },
      "source": [
        "![image info](https://raw.githubusercontent.com/albahnsen/MIAD_ML_and_NLP/main/images/banner_1.png)"
      ]
    },
    {
      "cell_type": "markdown",
      "metadata": {
        "id": "L5vU8bB1XeIx"
      },
      "source": [
        "# Taller: Construcción e implementación de árboles de decisión y métodos de ensamblaje\n",
        "\n",
        "En este taller podrá poner en práctica los sus conocimientos sobre construcción e implementación de árboles de decisión y métodos de ensamblajes. El taller está constituido por 9 puntos, 5 relacionados con árboles de decisión (parte A) y 4 con métodos de ensamblaje (parte B)."
      ]
    },
    {
      "cell_type": "markdown",
      "metadata": {
        "id": "Tmm4JGHpXeIx"
      },
      "source": [
        "## Parte A - Árboles de decisión\n",
        "\n",
        "En esta parte del taller se usará el conjunto de datos de Capital Bikeshare de Kaggle, donde cada observación representa el alquiler de bicicletas durante una hora y día determinado. Para más detalles puede visitar los siguientes enlaces: [datos](https://archive.ics.uci.edu/ml/machine-learning-databases/00275/Bike-Sharing-Dataset.zip), [dicccionario de datos](https://archive.ics.uci.edu/ml/datasets/Bike+Sharing+Dataset#)."
      ]
    },
    {
      "cell_type": "markdown",
      "metadata": {
        "id": "x2_hc-JsXeIy"
      },
      "source": [
        "### Datos prestamo de bicicletas"
      ]
    },
    {
      "cell_type": "code",
      "execution_count": 1,
      "metadata": {
        "id": "R6a7ejMtXeIy"
      },
      "outputs": [],
      "source": [
        "import warnings\n",
        "warnings.filterwarnings('ignore')"
      ]
    },
    {
      "cell_type": "code",
      "execution_count": 2,
      "metadata": {
        "id": "4i-lqTJ3XeIy"
      },
      "outputs": [],
      "source": [
        "# Importación de librerías\n",
        "%matplotlib inline\n",
        "import pandas as pd\n",
        "import numpy as np\n",
        "from sklearn.model_selection import cross_val_score\n",
        "from sklearn.linear_model import LinearRegression\n",
        "from sklearn.tree import DecisionTreeRegressor, export_graphviz"
      ]
    },
    {
      "cell_type": "code",
      "execution_count": 3,
      "metadata": {
        "colab": {
          "base_uri": "https://localhost:8080/",
          "height": 238
        },
        "id": "Lz1KhxV1XeIy",
        "outputId": "a2de202b-a308-405a-bec1-8affb2c6fcb0"
      },
      "outputs": [
        {
          "output_type": "execute_result",
          "data": {
            "text/plain": [
              "                     season  holiday  workingday  weather  temp   atemp  \\\n",
              "datetime                                                                  \n",
              "2011-01-01 00:00:00       1        0           0        1  9.84  14.395   \n",
              "2011-01-01 01:00:00       1        0           0        1  9.02  13.635   \n",
              "2011-01-01 02:00:00       1        0           0        1  9.02  13.635   \n",
              "2011-01-01 03:00:00       1        0           0        1  9.84  14.395   \n",
              "2011-01-01 04:00:00       1        0           0        1  9.84  14.395   \n",
              "\n",
              "                     humidity  windspeed  casual  registered  total  hour  \n",
              "datetime                                                                   \n",
              "2011-01-01 00:00:00        81        0.0       3          13     16     0  \n",
              "2011-01-01 01:00:00        80        0.0       8          32     40     1  \n",
              "2011-01-01 02:00:00        80        0.0       5          27     32     2  \n",
              "2011-01-01 03:00:00        75        0.0       3          10     13     3  \n",
              "2011-01-01 04:00:00        75        0.0       0           1      1     4  "
            ],
            "text/html": [
              "\n",
              "  <div id=\"df-fbce3919-9a2c-4ac5-8df5-b2ee5df5d79e\" class=\"colab-df-container\">\n",
              "    <div>\n",
              "<style scoped>\n",
              "    .dataframe tbody tr th:only-of-type {\n",
              "        vertical-align: middle;\n",
              "    }\n",
              "\n",
              "    .dataframe tbody tr th {\n",
              "        vertical-align: top;\n",
              "    }\n",
              "\n",
              "    .dataframe thead th {\n",
              "        text-align: right;\n",
              "    }\n",
              "</style>\n",
              "<table border=\"1\" class=\"dataframe\">\n",
              "  <thead>\n",
              "    <tr style=\"text-align: right;\">\n",
              "      <th></th>\n",
              "      <th>season</th>\n",
              "      <th>holiday</th>\n",
              "      <th>workingday</th>\n",
              "      <th>weather</th>\n",
              "      <th>temp</th>\n",
              "      <th>atemp</th>\n",
              "      <th>humidity</th>\n",
              "      <th>windspeed</th>\n",
              "      <th>casual</th>\n",
              "      <th>registered</th>\n",
              "      <th>total</th>\n",
              "      <th>hour</th>\n",
              "    </tr>\n",
              "    <tr>\n",
              "      <th>datetime</th>\n",
              "      <th></th>\n",
              "      <th></th>\n",
              "      <th></th>\n",
              "      <th></th>\n",
              "      <th></th>\n",
              "      <th></th>\n",
              "      <th></th>\n",
              "      <th></th>\n",
              "      <th></th>\n",
              "      <th></th>\n",
              "      <th></th>\n",
              "      <th></th>\n",
              "    </tr>\n",
              "  </thead>\n",
              "  <tbody>\n",
              "    <tr>\n",
              "      <th>2011-01-01 00:00:00</th>\n",
              "      <td>1</td>\n",
              "      <td>0</td>\n",
              "      <td>0</td>\n",
              "      <td>1</td>\n",
              "      <td>9.84</td>\n",
              "      <td>14.395</td>\n",
              "      <td>81</td>\n",
              "      <td>0.0</td>\n",
              "      <td>3</td>\n",
              "      <td>13</td>\n",
              "      <td>16</td>\n",
              "      <td>0</td>\n",
              "    </tr>\n",
              "    <tr>\n",
              "      <th>2011-01-01 01:00:00</th>\n",
              "      <td>1</td>\n",
              "      <td>0</td>\n",
              "      <td>0</td>\n",
              "      <td>1</td>\n",
              "      <td>9.02</td>\n",
              "      <td>13.635</td>\n",
              "      <td>80</td>\n",
              "      <td>0.0</td>\n",
              "      <td>8</td>\n",
              "      <td>32</td>\n",
              "      <td>40</td>\n",
              "      <td>1</td>\n",
              "    </tr>\n",
              "    <tr>\n",
              "      <th>2011-01-01 02:00:00</th>\n",
              "      <td>1</td>\n",
              "      <td>0</td>\n",
              "      <td>0</td>\n",
              "      <td>1</td>\n",
              "      <td>9.02</td>\n",
              "      <td>13.635</td>\n",
              "      <td>80</td>\n",
              "      <td>0.0</td>\n",
              "      <td>5</td>\n",
              "      <td>27</td>\n",
              "      <td>32</td>\n",
              "      <td>2</td>\n",
              "    </tr>\n",
              "    <tr>\n",
              "      <th>2011-01-01 03:00:00</th>\n",
              "      <td>1</td>\n",
              "      <td>0</td>\n",
              "      <td>0</td>\n",
              "      <td>1</td>\n",
              "      <td>9.84</td>\n",
              "      <td>14.395</td>\n",
              "      <td>75</td>\n",
              "      <td>0.0</td>\n",
              "      <td>3</td>\n",
              "      <td>10</td>\n",
              "      <td>13</td>\n",
              "      <td>3</td>\n",
              "    </tr>\n",
              "    <tr>\n",
              "      <th>2011-01-01 04:00:00</th>\n",
              "      <td>1</td>\n",
              "      <td>0</td>\n",
              "      <td>0</td>\n",
              "      <td>1</td>\n",
              "      <td>9.84</td>\n",
              "      <td>14.395</td>\n",
              "      <td>75</td>\n",
              "      <td>0.0</td>\n",
              "      <td>0</td>\n",
              "      <td>1</td>\n",
              "      <td>1</td>\n",
              "      <td>4</td>\n",
              "    </tr>\n",
              "  </tbody>\n",
              "</table>\n",
              "</div>\n",
              "    <div class=\"colab-df-buttons\">\n",
              "\n",
              "  <div class=\"colab-df-container\">\n",
              "    <button class=\"colab-df-convert\" onclick=\"convertToInteractive('df-fbce3919-9a2c-4ac5-8df5-b2ee5df5d79e')\"\n",
              "            title=\"Convert this dataframe to an interactive table.\"\n",
              "            style=\"display:none;\">\n",
              "\n",
              "  <svg xmlns=\"http://www.w3.org/2000/svg\" height=\"24px\" viewBox=\"0 -960 960 960\">\n",
              "    <path d=\"M120-120v-720h720v720H120Zm60-500h600v-160H180v160Zm220 220h160v-160H400v160Zm0 220h160v-160H400v160ZM180-400h160v-160H180v160Zm440 0h160v-160H620v160ZM180-180h160v-160H180v160Zm440 0h160v-160H620v160Z\"/>\n",
              "  </svg>\n",
              "    </button>\n",
              "\n",
              "  <style>\n",
              "    .colab-df-container {\n",
              "      display:flex;\n",
              "      gap: 12px;\n",
              "    }\n",
              "\n",
              "    .colab-df-convert {\n",
              "      background-color: #E8F0FE;\n",
              "      border: none;\n",
              "      border-radius: 50%;\n",
              "      cursor: pointer;\n",
              "      display: none;\n",
              "      fill: #1967D2;\n",
              "      height: 32px;\n",
              "      padding: 0 0 0 0;\n",
              "      width: 32px;\n",
              "    }\n",
              "\n",
              "    .colab-df-convert:hover {\n",
              "      background-color: #E2EBFA;\n",
              "      box-shadow: 0px 1px 2px rgba(60, 64, 67, 0.3), 0px 1px 3px 1px rgba(60, 64, 67, 0.15);\n",
              "      fill: #174EA6;\n",
              "    }\n",
              "\n",
              "    .colab-df-buttons div {\n",
              "      margin-bottom: 4px;\n",
              "    }\n",
              "\n",
              "    [theme=dark] .colab-df-convert {\n",
              "      background-color: #3B4455;\n",
              "      fill: #D2E3FC;\n",
              "    }\n",
              "\n",
              "    [theme=dark] .colab-df-convert:hover {\n",
              "      background-color: #434B5C;\n",
              "      box-shadow: 0px 1px 3px 1px rgba(0, 0, 0, 0.15);\n",
              "      filter: drop-shadow(0px 1px 2px rgba(0, 0, 0, 0.3));\n",
              "      fill: #FFFFFF;\n",
              "    }\n",
              "  </style>\n",
              "\n",
              "    <script>\n",
              "      const buttonEl =\n",
              "        document.querySelector('#df-fbce3919-9a2c-4ac5-8df5-b2ee5df5d79e button.colab-df-convert');\n",
              "      buttonEl.style.display =\n",
              "        google.colab.kernel.accessAllowed ? 'block' : 'none';\n",
              "\n",
              "      async function convertToInteractive(key) {\n",
              "        const element = document.querySelector('#df-fbce3919-9a2c-4ac5-8df5-b2ee5df5d79e');\n",
              "        const dataTable =\n",
              "          await google.colab.kernel.invokeFunction('convertToInteractive',\n",
              "                                                    [key], {});\n",
              "        if (!dataTable) return;\n",
              "\n",
              "        const docLinkHtml = 'Like what you see? Visit the ' +\n",
              "          '<a target=\"_blank\" href=https://colab.research.google.com/notebooks/data_table.ipynb>data table notebook</a>'\n",
              "          + ' to learn more about interactive tables.';\n",
              "        element.innerHTML = '';\n",
              "        dataTable['output_type'] = 'display_data';\n",
              "        await google.colab.output.renderOutput(dataTable, element);\n",
              "        const docLink = document.createElement('div');\n",
              "        docLink.innerHTML = docLinkHtml;\n",
              "        element.appendChild(docLink);\n",
              "      }\n",
              "    </script>\n",
              "  </div>\n",
              "\n",
              "\n",
              "<div id=\"df-d80c55b8-06cd-4ff1-af11-9d93affc1d6f\">\n",
              "  <button class=\"colab-df-quickchart\" onclick=\"quickchart('df-d80c55b8-06cd-4ff1-af11-9d93affc1d6f')\"\n",
              "            title=\"Suggest charts\"\n",
              "            style=\"display:none;\">\n",
              "\n",
              "<svg xmlns=\"http://www.w3.org/2000/svg\" height=\"24px\"viewBox=\"0 0 24 24\"\n",
              "     width=\"24px\">\n",
              "    <g>\n",
              "        <path d=\"M19 3H5c-1.1 0-2 .9-2 2v14c0 1.1.9 2 2 2h14c1.1 0 2-.9 2-2V5c0-1.1-.9-2-2-2zM9 17H7v-7h2v7zm4 0h-2V7h2v10zm4 0h-2v-4h2v4z\"/>\n",
              "    </g>\n",
              "</svg>\n",
              "  </button>\n",
              "\n",
              "<style>\n",
              "  .colab-df-quickchart {\n",
              "      --bg-color: #E8F0FE;\n",
              "      --fill-color: #1967D2;\n",
              "      --hover-bg-color: #E2EBFA;\n",
              "      --hover-fill-color: #174EA6;\n",
              "      --disabled-fill-color: #AAA;\n",
              "      --disabled-bg-color: #DDD;\n",
              "  }\n",
              "\n",
              "  [theme=dark] .colab-df-quickchart {\n",
              "      --bg-color: #3B4455;\n",
              "      --fill-color: #D2E3FC;\n",
              "      --hover-bg-color: #434B5C;\n",
              "      --hover-fill-color: #FFFFFF;\n",
              "      --disabled-bg-color: #3B4455;\n",
              "      --disabled-fill-color: #666;\n",
              "  }\n",
              "\n",
              "  .colab-df-quickchart {\n",
              "    background-color: var(--bg-color);\n",
              "    border: none;\n",
              "    border-radius: 50%;\n",
              "    cursor: pointer;\n",
              "    display: none;\n",
              "    fill: var(--fill-color);\n",
              "    height: 32px;\n",
              "    padding: 0;\n",
              "    width: 32px;\n",
              "  }\n",
              "\n",
              "  .colab-df-quickchart:hover {\n",
              "    background-color: var(--hover-bg-color);\n",
              "    box-shadow: 0 1px 2px rgba(60, 64, 67, 0.3), 0 1px 3px 1px rgba(60, 64, 67, 0.15);\n",
              "    fill: var(--button-hover-fill-color);\n",
              "  }\n",
              "\n",
              "  .colab-df-quickchart-complete:disabled,\n",
              "  .colab-df-quickchart-complete:disabled:hover {\n",
              "    background-color: var(--disabled-bg-color);\n",
              "    fill: var(--disabled-fill-color);\n",
              "    box-shadow: none;\n",
              "  }\n",
              "\n",
              "  .colab-df-spinner {\n",
              "    border: 2px solid var(--fill-color);\n",
              "    border-color: transparent;\n",
              "    border-bottom-color: var(--fill-color);\n",
              "    animation:\n",
              "      spin 1s steps(1) infinite;\n",
              "  }\n",
              "\n",
              "  @keyframes spin {\n",
              "    0% {\n",
              "      border-color: transparent;\n",
              "      border-bottom-color: var(--fill-color);\n",
              "      border-left-color: var(--fill-color);\n",
              "    }\n",
              "    20% {\n",
              "      border-color: transparent;\n",
              "      border-left-color: var(--fill-color);\n",
              "      border-top-color: var(--fill-color);\n",
              "    }\n",
              "    30% {\n",
              "      border-color: transparent;\n",
              "      border-left-color: var(--fill-color);\n",
              "      border-top-color: var(--fill-color);\n",
              "      border-right-color: var(--fill-color);\n",
              "    }\n",
              "    40% {\n",
              "      border-color: transparent;\n",
              "      border-right-color: var(--fill-color);\n",
              "      border-top-color: var(--fill-color);\n",
              "    }\n",
              "    60% {\n",
              "      border-color: transparent;\n",
              "      border-right-color: var(--fill-color);\n",
              "    }\n",
              "    80% {\n",
              "      border-color: transparent;\n",
              "      border-right-color: var(--fill-color);\n",
              "      border-bottom-color: var(--fill-color);\n",
              "    }\n",
              "    90% {\n",
              "      border-color: transparent;\n",
              "      border-bottom-color: var(--fill-color);\n",
              "    }\n",
              "  }\n",
              "</style>\n",
              "\n",
              "  <script>\n",
              "    async function quickchart(key) {\n",
              "      const quickchartButtonEl =\n",
              "        document.querySelector('#' + key + ' button');\n",
              "      quickchartButtonEl.disabled = true;  // To prevent multiple clicks.\n",
              "      quickchartButtonEl.classList.add('colab-df-spinner');\n",
              "      try {\n",
              "        const charts = await google.colab.kernel.invokeFunction(\n",
              "            'suggestCharts', [key], {});\n",
              "      } catch (error) {\n",
              "        console.error('Error during call to suggestCharts:', error);\n",
              "      }\n",
              "      quickchartButtonEl.classList.remove('colab-df-spinner');\n",
              "      quickchartButtonEl.classList.add('colab-df-quickchart-complete');\n",
              "    }\n",
              "    (() => {\n",
              "      let quickchartButtonEl =\n",
              "        document.querySelector('#df-d80c55b8-06cd-4ff1-af11-9d93affc1d6f button');\n",
              "      quickchartButtonEl.style.display =\n",
              "        google.colab.kernel.accessAllowed ? 'block' : 'none';\n",
              "    })();\n",
              "  </script>\n",
              "</div>\n",
              "\n",
              "    </div>\n",
              "  </div>\n"
            ],
            "application/vnd.google.colaboratory.intrinsic+json": {
              "type": "dataframe",
              "variable_name": "bikes",
              "summary": "{\n  \"name\": \"bikes\",\n  \"rows\": 10886,\n  \"fields\": [\n    {\n      \"column\": \"datetime\",\n      \"properties\": {\n        \"dtype\": \"date\",\n        \"min\": \"2011-01-01 00:00:00\",\n        \"max\": \"2012-12-19 23:00:00\",\n        \"num_unique_values\": 10886,\n        \"samples\": [\n          \"2011-07-19 11:00:00\",\n          \"2012-01-16 06:00:00\",\n          \"2011-12-11 18:00:00\"\n        ],\n        \"semantic_type\": \"\",\n        \"description\": \"\"\n      }\n    },\n    {\n      \"column\": \"season\",\n      \"properties\": {\n        \"dtype\": \"number\",\n        \"std\": 1,\n        \"min\": 1,\n        \"max\": 4,\n        \"num_unique_values\": 4,\n        \"samples\": [\n          2,\n          4,\n          1\n        ],\n        \"semantic_type\": \"\",\n        \"description\": \"\"\n      }\n    },\n    {\n      \"column\": \"holiday\",\n      \"properties\": {\n        \"dtype\": \"number\",\n        \"std\": 0,\n        \"min\": 0,\n        \"max\": 1,\n        \"num_unique_values\": 2,\n        \"samples\": [\n          1,\n          0\n        ],\n        \"semantic_type\": \"\",\n        \"description\": \"\"\n      }\n    },\n    {\n      \"column\": \"workingday\",\n      \"properties\": {\n        \"dtype\": \"number\",\n        \"std\": 0,\n        \"min\": 0,\n        \"max\": 1,\n        \"num_unique_values\": 2,\n        \"samples\": [\n          1,\n          0\n        ],\n        \"semantic_type\": \"\",\n        \"description\": \"\"\n      }\n    },\n    {\n      \"column\": \"weather\",\n      \"properties\": {\n        \"dtype\": \"number\",\n        \"std\": 0,\n        \"min\": 1,\n        \"max\": 4,\n        \"num_unique_values\": 4,\n        \"samples\": [\n          2,\n          4\n        ],\n        \"semantic_type\": \"\",\n        \"description\": \"\"\n      }\n    },\n    {\n      \"column\": \"temp\",\n      \"properties\": {\n        \"dtype\": \"number\",\n        \"std\": 7.791589843987567,\n        \"min\": 0.82,\n        \"max\": 41.0,\n        \"num_unique_values\": 49,\n        \"samples\": [\n          6.56,\n          1.64\n        ],\n        \"semantic_type\": \"\",\n        \"description\": \"\"\n      }\n    },\n    {\n      \"column\": \"atemp\",\n      \"properties\": {\n        \"dtype\": \"number\",\n        \"std\": 8.474600626484948,\n        \"min\": 0.76,\n        \"max\": 45.455,\n        \"num_unique_values\": 60,\n        \"samples\": [\n          14.395,\n          16.665\n        ],\n        \"semantic_type\": \"\",\n        \"description\": \"\"\n      }\n    },\n    {\n      \"column\": \"humidity\",\n      \"properties\": {\n        \"dtype\": \"number\",\n        \"std\": 19,\n        \"min\": 0,\n        \"max\": 100,\n        \"num_unique_values\": 89,\n        \"samples\": [\n          29,\n          61\n        ],\n        \"semantic_type\": \"\",\n        \"description\": \"\"\n      }\n    },\n    {\n      \"column\": \"windspeed\",\n      \"properties\": {\n        \"dtype\": \"number\",\n        \"std\": 8.164537326838689,\n        \"min\": 0.0,\n        \"max\": 56.9969,\n        \"num_unique_values\": 28,\n        \"samples\": [\n          22.0028,\n          43.0006\n        ],\n        \"semantic_type\": \"\",\n        \"description\": \"\"\n      }\n    },\n    {\n      \"column\": \"casual\",\n      \"properties\": {\n        \"dtype\": \"number\",\n        \"std\": 49,\n        \"min\": 0,\n        \"max\": 367,\n        \"num_unique_values\": 309,\n        \"samples\": [\n          287,\n          47\n        ],\n        \"semantic_type\": \"\",\n        \"description\": \"\"\n      }\n    },\n    {\n      \"column\": \"registered\",\n      \"properties\": {\n        \"dtype\": \"number\",\n        \"std\": 151,\n        \"min\": 0,\n        \"max\": 886,\n        \"num_unique_values\": 731,\n        \"samples\": [\n          566,\n          9\n        ],\n        \"semantic_type\": \"\",\n        \"description\": \"\"\n      }\n    },\n    {\n      \"column\": \"total\",\n      \"properties\": {\n        \"dtype\": \"number\",\n        \"std\": 181,\n        \"min\": 1,\n        \"max\": 977,\n        \"num_unique_values\": 822,\n        \"samples\": [\n          626,\n          256\n        ],\n        \"semantic_type\": \"\",\n        \"description\": \"\"\n      }\n    },\n    {\n      \"column\": \"hour\",\n      \"properties\": {\n        \"dtype\": \"int32\",\n        \"num_unique_values\": 24,\n        \"samples\": [\n          8,\n          16\n        ],\n        \"semantic_type\": \"\",\n        \"description\": \"\"\n      }\n    }\n  ]\n}"
            }
          },
          "metadata": {},
          "execution_count": 3
        }
      ],
      "source": [
        "# Lectura de la información de archivo .csv\n",
        "bikes = pd.read_csv('https://raw.githubusercontent.com/davidzarruk/MIAD_ML_NLP_2023/main/datasets/bikeshare.csv', index_col='datetime', parse_dates=True)\n",
        "\n",
        "# Renombrar variable \"count\" a \"total\"\n",
        "bikes.rename(columns={'count':'total'}, inplace=True)\n",
        "\n",
        "# Crear la hora como una variable\n",
        "bikes['hour'] = bikes.index.hour\n",
        "\n",
        "# Visualización de los datos\n",
        "bikes.head()"
      ]
    },
    {
      "cell_type": "markdown",
      "metadata": {
        "id": "7is9Da_vXeIy"
      },
      "source": [
        "### Punto 1 - Análisis descriptivo\n",
        "\n",
        "Ejecute las celdas 1.1 y 1.2. A partir de los resultados realice un análisis descriptivo sobre las variables \"season\" y \"hour\", escriba sus inferencias sobre los datos. Para complementar su análisis puede usar métricas como máximo, mínimo, percentiles entre otros."
      ]
    },
    {
      "cell_type": "code",
      "execution_count": 4,
      "metadata": {
        "colab": {
          "base_uri": "https://localhost:8080/"
        },
        "id": "i4fDAEBMXeIz",
        "outputId": "b14d83d3-d7a2-4ef5-be06-e8c7976c4ca0"
      },
      "outputs": [
        {
          "output_type": "execute_result",
          "data": {
            "text/plain": [
              "season\n",
              "1    116.343261\n",
              "2    215.251372\n",
              "3    234.417124\n",
              "4    198.988296\n",
              "Name: total, dtype: float64"
            ]
          },
          "metadata": {},
          "execution_count": 4
        }
      ],
      "source": [
        "# Celda 1.1\n",
        "bikes.groupby('season').total.mean()"
      ]
    },
    {
      "cell_type": "code",
      "execution_count": 5,
      "metadata": {
        "scrolled": true,
        "colab": {
          "base_uri": "https://localhost:8080/"
        },
        "id": "L6CIpNpqXeIz",
        "outputId": "0ecce83d-0bb5-4b12-f274-d37094674cad"
      },
      "outputs": [
        {
          "output_type": "execute_result",
          "data": {
            "text/plain": [
              "hour\n",
              "0      55.138462\n",
              "1      33.859031\n",
              "2      22.899554\n",
              "3      11.757506\n",
              "4       6.407240\n",
              "5      19.767699\n",
              "6      76.259341\n",
              "7     213.116484\n",
              "8     362.769231\n",
              "9     221.780220\n",
              "10    175.092308\n",
              "11    210.674725\n",
              "12    256.508772\n",
              "13    257.787281\n",
              "14    243.442982\n",
              "15    254.298246\n",
              "16    316.372807\n",
              "17    468.765351\n",
              "18    430.859649\n",
              "19    315.278509\n",
              "20    228.517544\n",
              "21    173.370614\n",
              "22    133.576754\n",
              "23     89.508772\n",
              "Name: total, dtype: float64"
            ]
          },
          "metadata": {},
          "execution_count": 5
        }
      ],
      "source": [
        "# Celda 1.2\n",
        "bikes.groupby('hour').total.mean()"
      ]
    },
    {
      "cell_type": "markdown",
      "metadata": {
        "id": "fANAb9ioXeIz"
      },
      "source": [
        "### Punto 2 - Análisis de gráficos\n",
        "\n",
        "Primero ejecute la celda 2.1 y asegúrese de comprender el código y el resultado. Luego, en cada una de celdas 2.2 y 2.3 escriba un código que genere una gráfica del número de bicicletas rentadas promedio para cada valor de la variable \"hour\" (hora) cuando la variable \"season\" es igual a 1 (invierno) e igual a 3 (verano), respectivamente. Analice y escriba sus hallazgos."
      ]
    },
    {
      "cell_type": "code",
      "execution_count": 6,
      "metadata": {
        "colab": {
          "base_uri": "https://localhost:8080/",
          "height": 466
        },
        "id": "-po81k_-XeIz",
        "outputId": "4340ef85-0626-491c-b2d7-a76ef519d341"
      },
      "outputs": [
        {
          "output_type": "execute_result",
          "data": {
            "text/plain": [
              "<Axes: xlabel='hour'>"
            ]
          },
          "metadata": {},
          "execution_count": 6
        },
        {
          "output_type": "display_data",
          "data": {
            "text/plain": [
              "<Figure size 640x480 with 1 Axes>"
            ],
            "image/png": "[encoded data removed]"
          },
          "metadata": {}
        }
      ],
      "source": [
        "# Celda 2.1 - rentas promedio para cada valor de la variable \"hour\"\n",
        "bikes.groupby('hour').total.mean().plot()"
      ]
    },
    {
      "cell_type": "code",
      "execution_count": 9,
      "metadata": {
        "colab": {
          "base_uri": "https://localhost:8080/",
          "height": 489
        },
        "id": "g2PmCKB6XeIz",
        "outputId": "6f199980-3012-4977-a3f6-cf87c4186c2b"
      },
      "outputs": [
        {
          "output_type": "execute_result",
          "data": {
            "text/plain": [
              "<Axes: title={'center': 'Promedio de alquileres por hora en Invierno'}, xlabel='hour'>"
            ]
          },
          "metadata": {},
          "execution_count": 9
        },
        {
          "output_type": "display_data",
          "data": {
            "text/plain": [
              "<Figure size 640x480 with 1 Axes>"
            ],
            "image/png": "[encoded data removed]"
          },
          "metadata": {}
        }
      ],
      "source": [
        "# Filtra los datos para la temporada de invierno y calcula el promedio de alquileres por hora\n",
        "bikes[bikes['season'] == 1].groupby('hour').total.mean().plot(title='Promedio de alquileres por hora en Invierno')\n"
      ]
    },
    {
      "cell_type": "code",
      "execution_count": 11,
      "metadata": {
        "colab": {
          "base_uri": "https://localhost:8080/",
          "height": 489
        },
        "id": "BMSQ606aXeIz",
        "outputId": "a1831f01-462d-41e4-ca07-bd3e62e709c2"
      },
      "outputs": [
        {
          "output_type": "execute_result",
          "data": {
            "text/plain": [
              "<Axes: title={'center': 'Promedio de alquileres por hora en Verano'}, xlabel='hour'>"
            ]
          },
          "metadata": {},
          "execution_count": 11
        },
        {
          "output_type": "display_data",
          "data": {
            "text/plain": [
              "<Figure size 640x480 with 1 Axes>"
            ],
            "image/png": "[encoded data removed]"
          },
          "metadata": {}
        }
      ],
      "source": [
        "# Filtra los datos para la temporada de verano y calcula el promedio de alquileres por hora\n",
        "bikes[bikes['season'] == 3].groupby('hour').total.mean().plot(title='Promedio de alquileres por hora en Verano')\n"
      ]
    },
    {
      "cell_type": "markdown",
      "metadata": {
        "id": "vnz448HlXeIz"
      },
      "source": [
        "### Punto 3 - Regresión lineal\n",
        "En la celda 3 ajuste un modelo de regresión lineal a todo el conjunto de datos, utilizando \"total\" como variable de respuesta y \"season\" y \"hour\" como las únicas variables predictoras, teniendo en cuenta que la variable \"season\" es categórica. Luego, imprima los coeficientes e interprételos. ¿Cuáles son las limitaciones de la regresión lineal en este caso?"
      ]
    },
    {
      "cell_type": "code",
      "execution_count": 19,
      "metadata": {
        "colab": {
          "base_uri": "https://localhost:8080/"
        },
        "id": "pM3SIHlvXeIz",
        "outputId": "9115726a-0a3a-41ae-e20a-21fa028137d4"
      },
      "outputs": [
        {
          "output_type": "stream",
          "name": "stdout",
          "text": [
            "Coeficientes de 'season': 26.951308510673893\n",
            "Coeficiente de 'hour': 10.52129823657616\n",
            "Intercepción: 2.5848513346812183\n"
          ]
        }
      ],
      "source": [
        "# Celda 3\n",
        "from sklearn.linear_model import LinearRegression\n",
        "\n",
        "# Preparar las variables independientes X y la variable dependiente y\n",
        "X = bikes[['season', 'hour']]\n",
        "y = bikes['total']\n",
        "\n",
        "# Crear y ajustar el modelo de regresión lineal\n",
        "model = LinearRegression()\n",
        "model.fit(X, y)\n",
        "\n",
        "# Coeficientes del modelo\n",
        "print(\"Coeficientes de 'season':\", model.coef_[0])\n",
        "print(\"Coeficiente de 'hour':\", model.coef_[1])\n",
        "print(\"Intercepción:\", model.intercept_)\n"
      ]
    },
    {
      "cell_type": "markdown",
      "metadata": {
        "id": "naOVhSQaXeI0"
      },
      "source": [
        "### Punto 4 - Árbol de decisión manual\n",
        "En la celda 4 cree un árbol de decisiones para pronosticar la variable \"total\" iterando **manualmente** sobre las variables \"hour\" y  \"season\". El árbol debe tener al menos 6 nodos finales."
      ]
    },
    {
      "cell_type": "code",
      "execution_count": 21,
      "metadata": {
        "colab": {
          "base_uri": "https://localhost:8080/"
        },
        "id": "DDFEQ03BXeI0",
        "outputId": "36cd3bde-0a4d-403d-b93f-c13365a36480"
      },
      "outputs": [
        {
          "output_type": "stream",
          "name": "stdout",
          "text": [
            "La demanda estimada para la hora 14 en la estación 3 es Alta.\n"
          ]
        }
      ],
      "source": [
        "# Mapas de puntuación para 'hour' y 'season'\n",
        "puntuacion_season = {\n",
        "    1: 1,  # Invierno\n",
        "    2: 2,  # Primavera\n",
        "    3: 3,  # Verano\n",
        "    4: 2,  # Otoño\n",
        "}\n",
        "\n",
        "puntuacion_hour = {\n",
        "    (0, 5): 1,\n",
        "    (6, 11): 2,\n",
        "    (12, 17): 3,\n",
        "    (18, 23): 2,\n",
        "}\n",
        "\n",
        "# Función para determinar la puntuación basada en el rango\n",
        "def obtener_puntuacion(rangos, valor):\n",
        "    for rango, puntuacion in rangos.items():\n",
        "        if rango[0] <= valor <= rango[1]:\n",
        "            return puntuacion\n",
        "    return 0  # En caso de que el valor no esté en los rangos definidos\n",
        "\n",
        "# Función para estimar la demanda basada en la suma de puntuaciones\n",
        "def estimar_demanda_con_tablas(hour, season):\n",
        "    puntuacion_total = puntuacion_season.get(season, 0) + obtener_puntuacion(puntuacion_hour, hour)\n",
        "\n",
        "    # Mapeo directo de la puntuación total a la demanda\n",
        "    demanda = \"Baja\" if puntuacion_total <= 3 else \"Media\" if puntuacion_total <= 5 else \"Alta\"\n",
        "\n",
        "    return demanda\n",
        "\n",
        "# Ejemplo de uso\n",
        "hora_ejemplo = 14\n",
        "estacion_ejemplo = 3\n",
        "demanda_estimada = estimar_demanda_con_tablas(hora_ejemplo, estacion_ejemplo)\n",
        "print(f\"La demanda estimada para la hora {hora_ejemplo} en la estación {estacion_ejemplo} es {demanda_estimada}.\")\n"
      ]
    },
    {
      "cell_type": "markdown",
      "metadata": {
        "id": "mK5OYGSKXeI0"
      },
      "source": [
        "### Punto 5 - Árbol de decisión con librería\n",
        "En la celda 5 entrene un árbol de decisiones con la **librería sklearn**, usando las variables predictoras \"season\" y \"hour\" y calibre los parámetros que considere conveniente para obtener un mejor desempeño. Recuerde dividir los datos en conjuntos de entrenamiento y validación para esto. Comente el desempeño del modelo con alguna métrica de desempeño de modelos de regresión y compare desempeño con el modelo del punto 3."
      ]
    },
    {
      "cell_type": "code",
      "execution_count": 22,
      "metadata": {
        "colab": {
          "base_uri": "https://localhost:8080/"
        },
        "id": "NqSHaH9HXeI0",
        "outputId": "436b5049-a721-44b8-d336-e961a4a01c17"
      },
      "outputs": [
        {
          "output_type": "stream",
          "name": "stdout",
          "text": [
            "RMSE del árbol de decisión: 122.29025067210056\n"
          ]
        }
      ],
      "source": [
        "from sklearn.model_selection import train_test_split\n",
        "from sklearn.tree import DecisionTreeRegressor\n",
        "from sklearn.metrics import mean_squared_error\n",
        "import numpy as np\n",
        "\n",
        "\n",
        "# Preparar los datos\n",
        "X = bikes[['season', 'hour']]  # Variables predictoras\n",
        "y = bikes['total']  # Variable objetivo\n",
        "\n",
        "# Dividir los datos en conjuntos de entrenamiento y validación\n",
        "X_train, X_test, y_train, y_test = train_test_split(X, y, test_size=0.2, random_state=42)\n",
        "\n",
        "# Entrenar el árbol de decisión\n",
        "tree_reg = DecisionTreeRegressor(max_depth=5)\n",
        "tree_reg.fit(X_train, y_train)\n",
        "\n",
        "# Predecir en el conjunto de validación\n",
        "y_pred = tree_reg.predict(X_test)\n",
        "\n",
        "# Evaluar el desempeño usando RMSE\n",
        "rmse = np.sqrt(mean_squared_error(y_test, y_pred))\n",
        "print(f\"RMSE del árbol de decisión: {rmse}\")\n",
        "\n",
        "# Compara este RMSE con el del modelo de regresión lineal del Punto 3\n"
      ]
    },
    {
      "cell_type": "markdown",
      "metadata": {
        "id": "QrQzkU81XeI0"
      },
      "source": [
        "## Parte B - Métodos de ensamblajes\n",
        "En esta parte del taller se usará el conjunto de datos de Popularidad de Noticias Online. El objetivo es predecir si la notica es popular o no, la popularidad está dada por la cantidad de reacciones en redes sociales. Para más detalles puede visitar el siguiente enlace: [datos](https://archive.ics.uci.edu/ml/datasets/online+news+popularity)."
      ]
    },
    {
      "cell_type": "markdown",
      "metadata": {
        "id": "awTIe7ebXeI0"
      },
      "source": [
        "### Datos popularidad de noticias"
      ]
    },
    {
      "cell_type": "code",
      "execution_count": 24,
      "metadata": {
        "colab": {
          "base_uri": "https://localhost:8080/",
          "height": 343
        },
        "id": "1j3hURUwXeI0",
        "outputId": "a97ffea2-840f-4bb9-fd37-222d72609cb7"
      },
      "outputs": [
        {
          "output_type": "execute_result",
          "data": {
            "text/plain": [
              "                                                 url  timedelta  \\\n",
              "0  http://mashable.com/2014/12/10/cia-torture-rep...       28.0   \n",
              "1  http://mashable.com/2013/10/18/bitlock-kicksta...      447.0   \n",
              "2  http://mashable.com/2013/07/24/google-glass-po...      533.0   \n",
              "3  http://mashable.com/2013/11/21/these-are-the-m...      413.0   \n",
              "4  http://mashable.com/2014/02/11/parking-ticket-...      331.0   \n",
              "\n",
              "   n_tokens_title  n_tokens_content  n_unique_tokens  n_non_stop_words  \\\n",
              "0             9.0             188.0         0.732620               1.0   \n",
              "1             7.0             297.0         0.653199               1.0   \n",
              "2            11.0             181.0         0.660377               1.0   \n",
              "3            12.0             781.0         0.497409               1.0   \n",
              "4             8.0             177.0         0.685714               1.0   \n",
              "\n",
              "   n_non_stop_unique_tokens  num_hrefs  num_self_hrefs  num_imgs  ...  \\\n",
              "0                  0.844262        5.0             1.0       1.0  ...   \n",
              "1                  0.815789        9.0             4.0       1.0  ...   \n",
              "2                  0.775701        4.0             3.0       1.0  ...   \n",
              "3                  0.677350       10.0             3.0       1.0  ...   \n",
              "4                  0.830357        3.0             2.0       1.0  ...   \n",
              "\n",
              "   min_positive_polarity  max_positive_polarity  avg_negative_polarity  \\\n",
              "0               0.200000                   0.80              -0.487500   \n",
              "1               0.160000                   0.50              -0.135340   \n",
              "2               0.136364                   1.00               0.000000   \n",
              "3               0.100000                   1.00              -0.195701   \n",
              "4               0.100000                   0.55              -0.175000   \n",
              "\n",
              "   min_negative_polarity  max_negative_polarity  title_subjectivity  \\\n",
              "0                  -0.60              -0.250000                 0.9   \n",
              "1                  -0.40              -0.050000                 0.1   \n",
              "2                   0.00               0.000000                 0.3   \n",
              "3                  -0.40              -0.071429                 0.0   \n",
              "4                  -0.25              -0.100000                 0.0   \n",
              "\n",
              "   title_sentiment_polarity  abs_title_subjectivity  \\\n",
              "0                       0.8                     0.4   \n",
              "1                      -0.1                     0.4   \n",
              "2                       1.0                     0.2   \n",
              "3                       0.0                     0.5   \n",
              "4                       0.0                     0.5   \n",
              "\n",
              "   abs_title_sentiment_polarity  Popular  \n",
              "0                           0.8        1  \n",
              "1                           0.1        0  \n",
              "2                           1.0        0  \n",
              "3                           0.0        0  \n",
              "4                           0.0        0  \n",
              "\n",
              "[5 rows x 61 columns]"
            ],
            "text/html": [
              "\n",
              "  <div id=\"df-be2055b2-cc60-4625-a103-c0af2af42113\" class=\"colab-df-container\">\n",
              "    <div>\n",
              "<style scoped>\n",
              "    .dataframe tbody tr th:only-of-type {\n",
              "        vertical-align: middle;\n",
              "    }\n",
              "\n",
              "    .dataframe tbody tr th {\n",
              "        vertical-align: top;\n",
              "    }\n",
              "\n",
              "    .dataframe thead th {\n",
              "        text-align: right;\n",
              "    }\n",
              "</style>\n",
              "<table border=\"1\" class=\"dataframe\">\n",
              "  <thead>\n",
              "    <tr style=\"text-align: right;\">\n",
              "      <th></th>\n",
              "      <th>url</th>\n",
              "      <th>timedelta</th>\n",
              "      <th>n_tokens_title</th>\n",
              "      <th>n_tokens_content</th>\n",
              "      <th>n_unique_tokens</th>\n",
              "      <th>n_non_stop_words</th>\n",
              "      <th>n_non_stop_unique_tokens</th>\n",
              "      <th>num_hrefs</th>\n",
              "      <th>num_self_hrefs</th>\n",
              "      <th>num_imgs</th>\n",
              "      <th>...</th>\n",
              "      <th>min_positive_polarity</th>\n",
              "      <th>max_positive_polarity</th>\n",
              "      <th>avg_negative_polarity</th>\n",
              "      <th>min_negative_polarity</th>\n",
              "      <th>max_negative_polarity</th>\n",
              "      <th>title_subjectivity</th>\n",
              "      <th>title_sentiment_polarity</th>\n",
              "      <th>abs_title_subjectivity</th>\n",
              "      <th>abs_title_sentiment_polarity</th>\n",
              "      <th>Popular</th>\n",
              "    </tr>\n",
              "  </thead>\n",
              "  <tbody>\n",
              "    <tr>\n",
              "      <th>0</th>\n",
              "      <td>http://mashable.com/2014/12/10/cia-torture-rep...</td>\n",
              "      <td>28.0</td>\n",
              "      <td>9.0</td>\n",
              "      <td>188.0</td>\n",
              "      <td>0.732620</td>\n",
              "      <td>1.0</td>\n",
              "      <td>0.844262</td>\n",
              "      <td>5.0</td>\n",
              "      <td>1.0</td>\n",
              "      <td>1.0</td>\n",
              "      <td>...</td>\n",
              "      <td>0.200000</td>\n",
              "      <td>0.80</td>\n",
              "      <td>-0.487500</td>\n",
              "      <td>-0.60</td>\n",
              "      <td>-0.250000</td>\n",
              "      <td>0.9</td>\n",
              "      <td>0.8</td>\n",
              "      <td>0.4</td>\n",
              "      <td>0.8</td>\n",
              "      <td>1</td>\n",
              "    </tr>\n",
              "    <tr>\n",
              "      <th>1</th>\n",
              "      <td>http://mashable.com/2013/10/18/bitlock-kicksta...</td>\n",
              "      <td>447.0</td>\n",
              "      <td>7.0</td>\n",
              "      <td>297.0</td>\n",
              "      <td>0.653199</td>\n",
              "      <td>1.0</td>\n",
              "      <td>0.815789</td>\n",
              "      <td>9.0</td>\n",
              "      <td>4.0</td>\n",
              "      <td>1.0</td>\n",
              "      <td>...</td>\n",
              "      <td>0.160000</td>\n",
              "      <td>0.50</td>\n",
              "      <td>-0.135340</td>\n",
              "      <td>-0.40</td>\n",
              "      <td>-0.050000</td>\n",
              "      <td>0.1</td>\n",
              "      <td>-0.1</td>\n",
              "      <td>0.4</td>\n",
              "      <td>0.1</td>\n",
              "      <td>0</td>\n",
              "    </tr>\n",
              "    <tr>\n",
              "      <th>2</th>\n",
              "      <td>http://mashable.com/2013/07/24/google-glass-po...</td>\n",
              "      <td>533.0</td>\n",
              "      <td>11.0</td>\n",
              "      <td>181.0</td>\n",
              "      <td>0.660377</td>\n",
              "      <td>1.0</td>\n",
              "      <td>0.775701</td>\n",
              "      <td>4.0</td>\n",
              "      <td>3.0</td>\n",
              "      <td>1.0</td>\n",
              "      <td>...</td>\n",
              "      <td>0.136364</td>\n",
              "      <td>1.00</td>\n",
              "      <td>0.000000</td>\n",
              "      <td>0.00</td>\n",
              "      <td>0.000000</td>\n",
              "      <td>0.3</td>\n",
              "      <td>1.0</td>\n",
              "      <td>0.2</td>\n",
              "      <td>1.0</td>\n",
              "      <td>0</td>\n",
              "    </tr>\n",
              "    <tr>\n",
              "      <th>3</th>\n",
              "      <td>http://mashable.com/2013/11/21/these-are-the-m...</td>\n",
              "      <td>413.0</td>\n",
              "      <td>12.0</td>\n",
              "      <td>781.0</td>\n",
              "      <td>0.497409</td>\n",
              "      <td>1.0</td>\n",
              "      <td>0.677350</td>\n",
              "      <td>10.0</td>\n",
              "      <td>3.0</td>\n",
              "      <td>1.0</td>\n",
              "      <td>...</td>\n",
              "      <td>0.100000</td>\n",
              "      <td>1.00</td>\n",
              "      <td>-0.195701</td>\n",
              "      <td>-0.40</td>\n",
              "      <td>-0.071429</td>\n",
              "      <td>0.0</td>\n",
              "      <td>0.0</td>\n",
              "      <td>0.5</td>\n",
              "      <td>0.0</td>\n",
              "      <td>0</td>\n",
              "    </tr>\n",
              "    <tr>\n",
              "      <th>4</th>\n",
              "      <td>http://mashable.com/2014/02/11/parking-ticket-...</td>\n",
              "      <td>331.0</td>\n",
              "      <td>8.0</td>\n",
              "      <td>177.0</td>\n",
              "      <td>0.685714</td>\n",
              "      <td>1.0</td>\n",
              "      <td>0.830357</td>\n",
              "      <td>3.0</td>\n",
              "      <td>2.0</td>\n",
              "      <td>1.0</td>\n",
              "      <td>...</td>\n",
              "      <td>0.100000</td>\n",
              "      <td>0.55</td>\n",
              "      <td>-0.175000</td>\n",
              "      <td>-0.25</td>\n",
              "      <td>-0.100000</td>\n",
              "      <td>0.0</td>\n",
              "      <td>0.0</td>\n",
              "      <td>0.5</td>\n",
              "      <td>0.0</td>\n",
              "      <td>0</td>\n",
              "    </tr>\n",
              "  </tbody>\n",
              "</table>\n",
              "<p>5 rows × 61 columns</p>\n",
              "</div>\n",
              "    <div class=\"colab-df-buttons\">\n",
              "\n",
              "  <div class=\"colab-df-container\">\n",
              "    <button class=\"colab-df-convert\" onclick=\"convertToInteractive('df-be2055b2-cc60-4625-a103-c0af2af42113')\"\n",
              "            title=\"Convert this dataframe to an interactive table.\"\n",
              "            style=\"display:none;\">\n",
              "\n",
              "  <svg xmlns=\"http://www.w3.org/2000/svg\" height=\"24px\" viewBox=\"0 -960 960 960\">\n",
              "    <path d=\"M120-120v-720h720v720H120Zm60-500h600v-160H180v160Zm220 220h160v-160H400v160Zm0 220h160v-160H400v160ZM180-400h160v-160H180v160Zm440 0h160v-160H620v160ZM180-180h160v-160H180v160Zm440 0h160v-160H620v160Z\"/>\n",
              "  </svg>\n",
              "    </button>\n",
              "\n",
              "  <style>\n",
              "    .colab-df-container {\n",
              "      display:flex;\n",
              "      gap: 12px;\n",
              "    }\n",
              "\n",
              "    .colab-df-convert {\n",
              "      background-color: #E8F0FE;\n",
              "      border: none;\n",
              "      border-radius: 50%;\n",
              "      cursor: pointer;\n",
              "      display: none;\n",
              "      fill: #1967D2;\n",
              "      height: 32px;\n",
              "      padding: 0 0 0 0;\n",
              "      width: 32px;\n",
              "    }\n",
              "\n",
              "    .colab-df-convert:hover {\n",
              "      background-color: #E2EBFA;\n",
              "      box-shadow: 0px 1px 2px rgba(60, 64, 67, 0.3), 0px 1px 3px 1px rgba(60, 64, 67, 0.15);\n",
              "      fill: #174EA6;\n",
              "    }\n",
              "\n",
              "    .colab-df-buttons div {\n",
              "      margin-bottom: 4px;\n",
              "    }\n",
              "\n",
              "    [theme=dark] .colab-df-convert {\n",
              "      background-color: #3B4455;\n",
              "      fill: #D2E3FC;\n",
              "    }\n",
              "\n",
              "    [theme=dark] .colab-df-convert:hover {\n",
              "      background-color: #434B5C;\n",
              "      box-shadow: 0px 1px 3px 1px rgba(0, 0, 0, 0.15);\n",
              "      filter: drop-shadow(0px 1px 2px rgba(0, 0, 0, 0.3));\n",
              "      fill: #FFFFFF;\n",
              "    }\n",
              "  </style>\n",
              "\n",
              "    <script>\n",
              "      const buttonEl =\n",
              "        document.querySelector('#df-be2055b2-cc60-4625-a103-c0af2af42113 button.colab-df-convert');\n",
              "      buttonEl.style.display =\n",
              "        google.colab.kernel.accessAllowed ? 'block' : 'none';\n",
              "\n",
              "      async function convertToInteractive(key) {\n",
              "        const element = document.querySelector('#df-be2055b2-cc60-4625-a103-c0af2af42113');\n",
              "        const dataTable =\n",
              "          await google.colab.kernel.invokeFunction('convertToInteractive',\n",
              "                                                    [key], {});\n",
              "        if (!dataTable) return;\n",
              "\n",
              "        const docLinkHtml = 'Like what you see? Visit the ' +\n",
              "          '<a target=\"_blank\" href=https://colab.research.google.com/notebooks/data_table.ipynb>data table notebook</a>'\n",
              "          + ' to learn more about interactive tables.';\n",
              "        element.innerHTML = '';\n",
              "        dataTable['output_type'] = 'display_data';\n",
              "        await google.colab.output.renderOutput(dataTable, element);\n",
              "        const docLink = document.createElement('div');\n",
              "        docLink.innerHTML = docLinkHtml;\n",
              "        element.appendChild(docLink);\n",
              "      }\n",
              "    </script>\n",
              "  </div>\n",
              "\n",
              "\n",
              "<div id=\"df-4b6364a9-e51b-4c4a-a9d2-c54cf01ad351\">\n",
              "  <button class=\"colab-df-quickchart\" onclick=\"quickchart('df-4b6364a9-e51b-4c4a-a9d2-c54cf01ad351')\"\n",
              "            title=\"Suggest charts\"\n",
              "            style=\"display:none;\">\n",
              "\n",
              "<svg xmlns=\"http://www.w3.org/2000/svg\" height=\"24px\"viewBox=\"0 0 24 24\"\n",
              "     width=\"24px\">\n",
              "    <g>\n",
              "        <path d=\"M19 3H5c-1.1 0-2 .9-2 2v14c0 1.1.9 2 2 2h14c1.1 0 2-.9 2-2V5c0-1.1-.9-2-2-2zM9 17H7v-7h2v7zm4 0h-2V7h2v10zm4 0h-2v-4h2v4z\"/>\n",
              "    </g>\n",
              "</svg>\n",
              "  </button>\n",
              "\n",
              "<style>\n",
              "  .colab-df-quickchart {\n",
              "      --bg-color: #E8F0FE;\n",
              "      --fill-color: #1967D2;\n",
              "      --hover-bg-color: #E2EBFA;\n",
              "      --hover-fill-color: #174EA6;\n",
              "      --disabled-fill-color: #AAA;\n",
              "      --disabled-bg-color: #DDD;\n",
              "  }\n",
              "\n",
              "  [theme=dark] .colab-df-quickchart {\n",
              "      --bg-color: #3B4455;\n",
              "      --fill-color: #D2E3FC;\n",
              "      --hover-bg-color: #434B5C;\n",
              "      --hover-fill-color: #FFFFFF;\n",
              "      --disabled-bg-color: #3B4455;\n",
              "      --disabled-fill-color: #666;\n",
              "  }\n",
              "\n",
              "  .colab-df-quickchart {\n",
              "    background-color: var(--bg-color);\n",
              "    border: none;\n",
              "    border-radius: 50%;\n",
              "    cursor: pointer;\n",
              "    display: none;\n",
              "    fill: var(--fill-color);\n",
              "    height: 32px;\n",
              "    padding: 0;\n",
              "    width: 32px;\n",
              "  }\n",
              "\n",
              "  .colab-df-quickchart:hover {\n",
              "    background-color: var(--hover-bg-color);\n",
              "    box-shadow: 0 1px 2px rgba(60, 64, 67, 0.3), 0 1px 3px 1px rgba(60, 64, 67, 0.15);\n",
              "    fill: var(--button-hover-fill-color);\n",
              "  }\n",
              "\n",
              "  .colab-df-quickchart-complete:disabled,\n",
              "  .colab-df-quickchart-complete:disabled:hover {\n",
              "    background-color: var(--disabled-bg-color);\n",
              "    fill: var(--disabled-fill-color);\n",
              "    box-shadow: none;\n",
              "  }\n",
              "\n",
              "  .colab-df-spinner {\n",
              "    border: 2px solid var(--fill-color);\n",
              "    border-color: transparent;\n",
              "    border-bottom-color: var(--fill-color);\n",
              "    animation:\n",
              "      spin 1s steps(1) infinite;\n",
              "  }\n",
              "\n",
              "  @keyframes spin {\n",
              "    0% {\n",
              "      border-color: transparent;\n",
              "      border-bottom-color: var(--fill-color);\n",
              "      border-left-color: var(--fill-color);\n",
              "    }\n",
              "    20% {\n",
              "      border-color: transparent;\n",
              "      border-left-color: var(--fill-color);\n",
              "      border-top-color: var(--fill-color);\n",
              "    }\n",
              "    30% {\n",
              "      border-color: transparent;\n",
              "      border-left-color: var(--fill-color);\n",
              "      border-top-color: var(--fill-color);\n",
              "      border-right-color: var(--fill-color);\n",
              "    }\n",
              "    40% {\n",
              "      border-color: transparent;\n",
              "      border-right-color: var(--fill-color);\n",
              "      border-top-color: var(--fill-color);\n",
              "    }\n",
              "    60% {\n",
              "      border-color: transparent;\n",
              "      border-right-color: var(--fill-color);\n",
              "    }\n",
              "    80% {\n",
              "      border-color: transparent;\n",
              "      border-right-color: var(--fill-color);\n",
              "      border-bottom-color: var(--fill-color);\n",
              "    }\n",
              "    90% {\n",
              "      border-color: transparent;\n",
              "      border-bottom-color: var(--fill-color);\n",
              "    }\n",
              "  }\n",
              "</style>\n",
              "\n",
              "  <script>\n",
              "    async function quickchart(key) {\n",
              "      const quickchartButtonEl =\n",
              "        document.querySelector('#' + key + ' button');\n",
              "      quickchartButtonEl.disabled = true;  // To prevent multiple clicks.\n",
              "      quickchartButtonEl.classList.add('colab-df-spinner');\n",
              "      try {\n",
              "        const charts = await google.colab.kernel.invokeFunction(\n",
              "            'suggestCharts', [key], {});\n",
              "      } catch (error) {\n",
              "        console.error('Error during call to suggestCharts:', error);\n",
              "      }\n",
              "      quickchartButtonEl.classList.remove('colab-df-spinner');\n",
              "      quickchartButtonEl.classList.add('colab-df-quickchart-complete');\n",
              "    }\n",
              "    (() => {\n",
              "      let quickchartButtonEl =\n",
              "        document.querySelector('#df-4b6364a9-e51b-4c4a-a9d2-c54cf01ad351 button');\n",
              "      quickchartButtonEl.style.display =\n",
              "        google.colab.kernel.accessAllowed ? 'block' : 'none';\n",
              "    })();\n",
              "  </script>\n",
              "</div>\n",
              "\n",
              "    </div>\n",
              "  </div>\n"
            ],
            "application/vnd.google.colaboratory.intrinsic+json": {
              "type": "dataframe",
              "variable_name": "df"
            }
          },
          "metadata": {},
          "execution_count": 24
        }
      ],
      "source": [
        "# Lectura de la información de archivo .csv\n",
        "df = pd.read_csv('https://raw.githubusercontent.com/davidzarruk/MIAD_ML_NLP_2023/main/datasets/mashable.csv', index_col=0)\n",
        "df.head()"
      ]
    },
    {
      "cell_type": "code",
      "execution_count": 25,
      "metadata": {
        "colab": {
          "base_uri": "https://localhost:8080/"
        },
        "id": "aiUyrPaAXeI0",
        "outputId": "769dd1a8-e3e1-4240-e38f-edde0300ae0c"
      },
      "outputs": [
        {
          "output_type": "execute_result",
          "data": {
            "text/plain": [
              "0.5"
            ]
          },
          "metadata": {},
          "execution_count": 25
        }
      ],
      "source": [
        "# Definición variable de interes y variables predictoras\n",
        "X = df.drop(['url', 'Popular'], axis=1)\n",
        "y = df['Popular']\n",
        "y.mean()"
      ]
    },
    {
      "cell_type": "code",
      "execution_count": 26,
      "metadata": {
        "id": "ITso4exQXeI0"
      },
      "outputs": [],
      "source": [
        "# División de la muestra en set de entrenamiento y prueba\n",
        "from sklearn.model_selection import train_test_split\n",
        "X_train, X_test, y_train, y_test = train_test_split(X, y, random_state=1)"
      ]
    },
    {
      "cell_type": "markdown",
      "metadata": {
        "id": "5IxDQUOrXeI0"
      },
      "source": [
        "### Punto 6 - Árbol de decisión y regresión logística\n",
        "En la celda 6 construya un árbol de decisión y una regresión logística. Para el árbol calibre al menos un parámetro y evalúe el desempeño de cada modelo usando las métricas de Accuracy y F1-Score."
      ]
    },
    {
      "cell_type": "code",
      "execution_count": 27,
      "metadata": {
        "colab": {
          "base_uri": "https://localhost:8080/"
        },
        "id": "eietmTGRXeI0",
        "outputId": "56e3472d-09d3-41d6-e525-b8658aa0457b"
      },
      "outputs": [
        {
          "output_type": "stream",
          "name": "stdout",
          "text": [
            "Árbol de Decisión Accuracy: 0.64\n",
            "Árbol de Decisión F1-Score: 0.6633416458852869\n"
          ]
        }
      ],
      "source": [
        "# Celda 6\n",
        "from sklearn.tree import DecisionTreeClassifier\n",
        "from sklearn.metrics import accuracy_score, f1_score\n",
        "\n",
        "# Asumiendo que X_train, X_test, y_train, y_test ya están definidos\n",
        "\n",
        "# Entrenar el árbol de decisión\n",
        "tree_clf = DecisionTreeClassifier(max_depth=5, random_state=42)\n",
        "tree_clf.fit(X_train, y_train)\n",
        "\n",
        "# Predecir con el conjunto de prueba\n",
        "y_pred_tree = tree_clf.predict(X_test)\n",
        "\n",
        "# Evaluar el desempeño\n",
        "accuracy_tree = accuracy_score(y_test, y_pred_tree)\n",
        "f1_tree = f1_score(y_test, y_pred_tree)\n",
        "\n",
        "print(f\"Árbol de Decisión Accuracy: {accuracy_tree}\")\n",
        "print(f\"Árbol de Decisión F1-Score: {f1_tree}\")\n"
      ]
    },
    {
      "cell_type": "code",
      "source": [
        "from sklearn.linear_model import LogisticRegression\n",
        "\n",
        "# Entrenar la regresión logística\n",
        "log_reg = LogisticRegression(random_state=42)\n",
        "log_reg.fit(X_train, y_train)\n",
        "\n",
        "# Predecir con el conjunto de prueba\n",
        "y_pred_log = log_reg.predict(X_test)\n",
        "\n",
        "# Evaluar el desempeño\n",
        "accuracy_log = accuracy_score(y_test, y_pred_log)\n",
        "f1_log = f1_score(y_test, y_pred_log)\n",
        "\n",
        "print(f\"Regresión Logística Accuracy: {accuracy_log}\")\n",
        "print(f\"Regresión Logística F1-Score: {f1_log}\")\n"
      ],
      "metadata": {
        "colab": {
          "base_uri": "https://localhost:8080/"
        },
        "id": "zql1ib8njtHF",
        "outputId": "70be6bf0-0fbc-4bc2-9981-1231578a9828"
      },
      "execution_count": 28,
      "outputs": [
        {
          "output_type": "stream",
          "name": "stdout",
          "text": [
            "Regresión Logística Accuracy: 0.6133333333333333\n",
            "Regresión Logística F1-Score: 0.6102150537634409\n"
          ]
        }
      ]
    },
    {
      "cell_type": "markdown",
      "metadata": {
        "id": "kUOeKdTDXeI0"
      },
      "source": [
        "### Punto 7 - Votación Mayoritaria\n",
        "En la celda 7 elabore un esamble con la metodología de **Votación mayoritaria** compuesto por 300 muestras bagged donde:\n",
        "\n",
        "-las primeras 100 muestras vienen de árboles de decisión donde max_depth tome un valor de su elección\\\n",
        "-las segundas 100 muestras vienen de árboles de decisión donde min_samples_leaf tome un valor de su elección\\\n",
        "-las últimas 100 muestras vienen de regresiones logísticas\n",
        "\n",
        "Evalúe cada uno de los tres modelos de manera independiente utilizando las métricas de Accuracy y F1-Score, luego evalúe el ensamble de modelos y compare los resultados.\n",
        "\n",
        "Nota:\n",
        "\n",
        "Para este ensamble de 300 modelos, deben hacer votación mayoritaria. Esto lo pueden hacer de distintas maneras. La más \"fácil\" es haciendo la votación \"manualmente\", como se hace a partir del minuto 5:45 del video de Ejemplo práctico de emsablajes en Coursera. Digo que es la más fácil porque si hacen la votación mayoritaria sobre las 300 predicciones van a obtener lo que se espera.\n",
        "\n",
        "Otra opción es: para cada uno de los 3 tipos de modelos, entrenar un ensamble de 100 modelos cada uno. Predecir para cada uno de esos tres ensambles y luego predecir como un ensamble de los 3 ensambles. La cuestión es que la votación mayoritaria al usar los 3 ensambles no necesariamente va a generar el mismo resultado que si hacen la votación mayoritaria directamente sobre los 300 modelos. Entonces, para los que quieran hacer esto, deben hacer ese último cálculo con cuidado.\n",
        "\n",
        "Para los que quieran hacerlo como ensamble de ensambles, digo que se debe hacer el ensamble final con cuidado por lo siguiente. Supongamos que:\n",
        "\n",
        "* para los 100 árboles del primer tipo, la votación mayoritaria es: 55% de los modelos predicen que la clase de una observación es \"1\"\n",
        "* para los 100 árboles del segundo tipo, la votación mayoritaria es: 55% de los modelos predicen que la clase de una observación es \"1\"\n",
        "* para las 100 regresiones logísticas, la votación mayoritaria es: 10% de los modelos predicen que la clase de una observación es \"1\"\n",
        "\n",
        "Si se hace la votación mayoritaria de los 300 modelos, la predicción de esa observación debería ser: (100*55%+100*55%+100*10%)/300 = 40% de los modelos votan porque la predicción debería ser \"1\". Es decir, la predicción del ensamble es \"0\" (dado que menos del 50% de modelos predijo un 1).\n",
        "\n",
        "Sin embargo, si miramos cada ensamble por separado, el primer ensamble predice \"1\", el segundo ensamble predice \"1\" y el último ensamble predice \"0\". Si hago votación mayoritaria sobre esto, la predicción va a ser \"1\", lo cual es distinto a si se hace la votación mayoritaria sobre los 300 modelos."
      ]
    },
    {
      "cell_type": "code",
      "execution_count": 31,
      "metadata": {
        "colab": {
          "base_uri": "https://localhost:8080/"
        },
        "id": "M638pbQJXeI1",
        "outputId": "2459799b-2a72-4af8-c6db-c8153507a4ed"
      },
      "outputs": [
        {
          "output_type": "stream",
          "name": "stdout",
          "text": [
            "Accuracy del ensamble: 0.638\n",
            "F1-Score del ensamble: 0.651252408477842\n"
          ]
        }
      ],
      "source": [
        "from sklearn.tree import DecisionTreeClassifier\n",
        "from sklearn.linear_model import LogisticRegression\n",
        "from sklearn.metrics import accuracy_score, f1_score\n",
        "import numpy as np\n",
        "\n",
        "# Suponemos que X_train, X_test, y_train, y_test ya están definidos\n",
        "\n",
        "# Establecer parámetros para los árboles de decisión\n",
        "valor_eleccion_depth = 5  # o el valor que resulte de tu análisis\n",
        "valor_eleccion_samples_leaf = 50  # o el valor que resulte de tu análisis\n",
        "\n",
        "# Crear los modelos\n",
        "trees_depth = [DecisionTreeClassifier(max_depth=valor_eleccion_depth, random_state=i) for i in range(100)]\n",
        "trees_leaf = [DecisionTreeClassifier(min_samples_leaf=valor_eleccion_samples_leaf, random_state=i+100) for i in range(100)]\n",
        "log_regs = [LogisticRegression(random_state=i+200) for i in range(100)]\n",
        "\n",
        "# Entrenar los modelos y hacer predicciones\n",
        "predictions = []\n",
        "for group in [trees_depth, trees_leaf, log_regs]:\n",
        "    group_predictions = np.zeros((len(y_test), len(group)))\n",
        "    for i, model in enumerate(group):\n",
        "        model.fit(X_train, y_train)\n",
        "        group_predictions[:, i] = model.predict(X_test)\n",
        "    # Calcular votación mayoritaria para cada grupo\n",
        "    group_majority = np.mean(group_predictions, axis=1) > 0.5\n",
        "    predictions.append(group_majority)\n",
        "\n",
        "# Calcular la votación mayoritaria del ensamble entero\n",
        "ensemble_predictions = np.mean(predictions, axis=0) > 0.5\n",
        "ensemble_predictions = ensemble_predictions.astype(int)\n",
        "\n",
        "# Evaluar el ensamble\n",
        "accuracy_ensemble = accuracy_score(y_test, ensemble_predictions)\n",
        "f1_ensemble = f1_score(y_test, ensemble_predictions)\n",
        "\n",
        "print(f\"Accuracy del ensamble: {accuracy_ensemble}\")\n",
        "print(f\"F1-Score del ensamble: {f1_ensemble}\")\n",
        "\n"
      ]
    },
    {
      "cell_type": "markdown",
      "metadata": {
        "id": "bnjxUxXZXeI1"
      },
      "source": [
        "### Punto 8 - Votación Ponderada\n",
        "En la celda 8 elabore un ensamble con la metodología de **Votación ponderada** compuesto por 300 muestras bagged para los mismos tres escenarios del punto 7. Evalúe los modelos utilizando las métricas de Accuracy y F1-Score"
      ]
    },
    {
      "cell_type": "code",
      "execution_count": 34,
      "metadata": {
        "colab": {
          "base_uri": "https://localhost:8080/"
        },
        "id": "1zVrN2HpXeI1",
        "outputId": "7f3a67da-61bc-434d-a7f4-14db96e0c41c"
      },
      "outputs": [
        {
          "output_type": "stream",
          "name": "stdout",
          "text": [
            "Accuracy del ensamble ponderado: 0.6533333333333333\n",
            "F1-Score del ensamble ponderado: 0.6498316498316499\n"
          ]
        }
      ],
      "source": [
        "from sklearn.tree import DecisionTreeClassifier\n",
        "from sklearn.linear_model import LogisticRegression\n",
        "from sklearn.model_selection import train_test_split\n",
        "from sklearn.metrics import accuracy_score, f1_score\n",
        "import numpy as np\n",
        "import pandas as pd\n",
        "\n",
        "# Cargar los datos\n",
        "url = 'https://raw.githubusercontent.com/davidzarruk/MIAD_ML_NLP_2023/main/datasets/mashable.csv'\n",
        "df = pd.read_csv(url, index_col=0)\n",
        "\n",
        "# Preparar los datos\n",
        "X = df.drop(['url', 'Popular'], axis=1)\n",
        "y = df['Popular']\n",
        "\n",
        "# Dividir en entrenamiento y prueba\n",
        "X_train, X_test, y_train, y_test = train_test_split(X, y, test_size=0.2, random_state=42)\n",
        "\n",
        "# Inicializar los modelos\n",
        "max_depth_value = 5  # Reemplazar con el valor que desees después de una validación cruzada\n",
        "min_samples_leaf_value = 50  # Reemplazar con el valor que desees después de una validación cruzada\n",
        "num_models = 100  # Número de modelos de cada tipo\n",
        "\n",
        "trees_max_depth = [DecisionTreeClassifier(max_depth=max_depth_value, random_state=i) for i in range(num_models)]\n",
        "trees_min_samples_leaf = [DecisionTreeClassifier(min_samples_leaf=min_samples_leaf_value, random_state=i) for i in range(num_models, 2*num_models)]\n",
        "logistic_models = [LogisticRegression(random_state=i) for i in range(2*num_models, 3*num_models)]\n",
        "\n",
        "# Entrenar los modelos\n",
        "for model in trees_max_depth + trees_min_samples_leaf + logistic_models:\n",
        "    model.fit(X_train, y_train)\n",
        "\n",
        "# Realizar predicciones y calcular pesos basados en la precisión\n",
        "predictions = []\n",
        "weights = []\n",
        "\n",
        "# Obtener predicciones y calcular la precisión para árboles con max_depth\n",
        "for model in trees_max_depth:\n",
        "    preds = model.predict(X_test)\n",
        "    predictions.append(preds)\n",
        "    weights.append(accuracy_score(y_test, preds))\n",
        "\n",
        "# Obtener predicciones y calcular la precisión para árboles con min_samples_leaf\n",
        "for model in trees_min_samples_leaf:\n",
        "    preds = model.predict(X_test)\n",
        "    predictions.append(preds)\n",
        "    weights.append(accuracy_score(y_test, preds))\n",
        "\n",
        "# Obtener predicciones y calcular la precisión para regresiones logísticas\n",
        "for model in logistic_models:\n",
        "    preds = model.predict(X_test)\n",
        "    predictions.append(preds)\n",
        "    weights.append(accuracy_score(y_test, preds))\n",
        "\n",
        "# Normalizar los pesos\n",
        "weights = np.array(weights) / sum(weights)\n",
        "\n",
        "# Calcular la votación ponderada\n",
        "weighted_votes = np.average(predictions, axis=0, weights=weights)\n",
        "\n",
        "# Convertir los votos ponderados a clases finales\n",
        "final_predictions = (weighted_votes >= 0.5).astype(int)\n",
        "\n",
        "# Evaluar el ensamble\n",
        "accuracy_ensamble = accuracy_score(y_test, final_predictions)\n",
        "f1_ensamble = f1_score(y_test, final_predictions)\n",
        "\n",
        "print(f\"Accuracy del ensamble ponderado: {accuracy_ensamble}\")\n",
        "print(f\"F1-Score del ensamble ponderado: {f1_ensamble}\")\n",
        "\n"
      ]
    },
    {
      "cell_type": "code",
      "source": [
        "# las listas 'accuracies' y 'f1_scores' contienen las métricas de tus 300 modelos\n",
        "\n",
        "# Convertir las listas a arrays de NumPy para facilitar los cálculos\n",
        "accuracies = np.array(accuracies)\n",
        "f1_scores = np.array(f1_scores)\n",
        "\n",
        "# Calcular el promedio de las métricas para los árboles con max_depth específico\n",
        "average_accuracy_trees_depth = np.mean(accuracies[:100])\n",
        "average_f1_trees_depth = np.mean(f1_scores[:100])\n",
        "\n",
        "# Calcular el promedio de las métricas para los árboles con min_samples_leaf específico\n",
        "average_accuracy_trees_leaf = np.mean(accuracies[100:200])\n",
        "average_f1_trees_leaf = np.mean(f1_scores[100:200])\n",
        "\n",
        "# Calcular el promedio de las métricas para las regresiones logísticas\n",
        "average_accuracy_log_reg = np.mean(accuracies[200:])\n",
        "average_f1_log_reg = np.mean(f1_scores[200:])\n",
        "\n",
        "print(\"Promedio Accuracy - Árboles con max_depth:\", average_accuracy_trees_depth)\n",
        "print(\"Promedio F1-Score - Árboles con max_depth:\", average_f1_trees_depth)\n",
        "\n",
        "print(\"Promedio Accuracy - Árboles con min_samples_leaf:\", average_accuracy_trees_leaf)\n",
        "print(\"Promedio F1-Score - Árboles con min_samples_leaf:\", average_f1_trees_leaf)\n",
        "\n",
        "print(\"Promedio Accuracy - Regresiones Logísticas:\", average_accuracy_log_reg)\n",
        "print(\"Promedio F1-Score - Regresiones Logísticas:\", average_f1_log_reg)\n",
        "\n"
      ],
      "metadata": {
        "colab": {
          "base_uri": "https://localhost:8080/"
        },
        "id": "cw6m_jkArlfz",
        "outputId": "513f6fb1-db8d-4833-a72e-b76ade36fa98"
      },
      "execution_count": 36,
      "outputs": [
        {
          "output_type": "stream",
          "name": "stdout",
          "text": [
            "Promedio Accuracy - Árboles con max_depth: 0.646575\n",
            "Promedio F1-Score - Árboles con max_depth: 0.6548908940877873\n",
            "Promedio Accuracy - Árboles con min_samples_leaf: 0.6314416666666669\n",
            "Promedio F1-Score - Árboles con min_samples_leaf: 0.6156265233766797\n",
            "Promedio Accuracy - Regresiones Logísticas: 0.6283333333333331\n",
            "Promedio F1-Score - Regresiones Logísticas: 0.6148531951640759\n"
          ]
        }
      ]
    },
    {
      "cell_type": "markdown",
      "metadata": {
        "id": "GpijWn-vXeI1"
      },
      "source": [
        "### Punto 9 - Comparación y análisis de resultados\n",
        "En la celda 9 comente sobre los resultados obtenidos con las metodologías usadas en los puntos 7 y 8, compare los resultados y enuncie posibles ventajas o desventajas de cada una de ellas."
      ]
    },
    {
      "cell_type": "code",
      "execution_count": 37,
      "metadata": {
        "colab": {
          "base_uri": "https://localhost:8080/"
        },
        "id": "PXpG7VvaXeI1",
        "outputId": "c1998d44-9e69-4c46-8f7a-881c3ab1a979"
      },
      "outputs": [
        {
          "output_type": "stream",
          "name": "stdout",
          "text": [
            "Comparación de la Votación Mayoritaria vs. Votación Ponderada:\n",
            "\n",
            "Accuracy - Mayoritaria: 0.638 | Ponderada: 0.638\n",
            "Diferencia de Accuracy: 0.0\n",
            "\n",
            "F1-Score - Mayoritaria: 0.651 | Ponderada: 0.651\n",
            "Diferencia de F1-Score: 0.0\n",
            "\n",
            "No hay una mejora significativa con la votación ponderada en comparación con la votación mayoritaria.\n",
            "\n",
            "Análisis:\n",
            "La mejora en la precisión con la votación ponderada no es significativa, lo que sugiere que la complejidad adicional puede no justificarse.\n",
            "La mejora en el F1-Score con la votación ponderada no es significativa, lo que puede indicar que la votación mayoritaria es suficiente o que se necesita una mejor estrategia de ponderación.\n"
          ]
        }
      ],
      "source": [
        "# Celda 9\n",
        "\n",
        "# Asumamos que tienes las métricas de desempeño ya calculadas para ambos enfoques\n",
        "# Para votación mayoritaria\n",
        "accuracy_majority = 0.638  # Reemplaza con tu valor real\n",
        "f1_majority = 0.651  # Reemplaza con tu valor real\n",
        "\n",
        "# Para votación ponderada\n",
        "accuracy_weighted = 0.638  # Reemplaza con tu valor real\n",
        "f1_weighted = 0.651  # Reemplaza con tu valor real\n",
        "\n",
        "# Comparar las métricas\n",
        "print(\"Comparación de la Votación Mayoritaria vs. Votación Ponderada:\")\n",
        "print(f\"\\nAccuracy - Mayoritaria: {accuracy_majority} | Ponderada: {accuracy_weighted}\")\n",
        "print(f\"Diferencia de Accuracy: {accuracy_weighted - accuracy_majority}\")\n",
        "\n",
        "print(f\"\\nF1-Score - Mayoritaria: {f1_majority} | Ponderada: {f1_weighted}\")\n",
        "print(f\"Diferencia de F1-Score: {f1_weighted - f1_majority}\")\n",
        "\n",
        "# Evaluar si hay una mejora significativa\n",
        "if accuracy_weighted > accuracy_majority and f1_weighted > f1_majority:\n",
        "    print(\"\\nLa votación ponderada mejora tanto la Accuracy como el F1-Score en comparación con la votación mayoritaria.\")\n",
        "elif accuracy_weighted > accuracy_majority:\n",
        "    print(\"\\nLa votación ponderada mejora la Accuracy pero no el F1-Score en comparación con la votación mayoritaria.\")\n",
        "elif f1_weighted > f1_majority:\n",
        "    print(\"\\nLa votación ponderada mejora el F1-Score pero no la Accuracy en comparación con la votación mayoritaria.\")\n",
        "else:\n",
        "    print(\"\\nNo hay una mejora significativa con la votación ponderada en comparación con la votación mayoritaria.\")\n",
        "\n",
        "# Posibles ventajas o desventajas\n",
        "print(\"\\nAnálisis:\")\n",
        "if accuracy_weighted - accuracy_majority > 0.02:  # Umbral de mejora significativa para Accuracy\n",
        "    print(\"La votación ponderada muestra una mejora significativa en la precisión, lo que puede ser ventajoso en situaciones donde cada predicción correcta es crítica.\")\n",
        "else:\n",
        "    print(\"La mejora en la precisión con la votación ponderada no es significativa, lo que sugiere que la complejidad adicional puede no justificarse.\")\n",
        "\n",
        "if f1_weighted - f1_majority > 0.02:  # Umbral de mejora significativa para F1-Score\n",
        "    print(\"La votación ponderada muestra una mejora significativa en el F1-Score, lo que puede ser ventajoso si se busca un balance entre precisión y sensibilidad.\")\n",
        "else:\n",
        "    print(\"La mejora en el F1-Score con la votación ponderada no es significativa, lo que puede indicar que la votación mayoritaria es suficiente o que se necesita una mejor estrategia de ponderación.\")\n"
      ]
    },
    {
      "cell_type": "code",
      "source": [
        "from sklearn.metrics import accuracy_score, f1_score\n",
        "from sklearn.model_selection import train_test_split\n",
        "import matplotlib.pyplot as plt\n",
        "import numpy as np\n",
        "\n",
        "# Supongamos que estos son tus modelos ya definidos (debes definirlos según tu caso)\n",
        "models = {\n",
        "    'Árbol max_depth': DecisionTreeClassifier(max_depth=5),\n",
        "    'Árbol min_samples_leaf': DecisionTreeClassifier(min_samples_leaf=50),\n",
        "    'Regresión Logística': LogisticRegression(),\n",
        "    # Añade aquí los modelos de votación si los tienes definidos\n",
        "}\n",
        "\n",
        "# Dividir tu dataset (necesitas cargar tus datos en X, y)\n",
        "# X_train, X_test, y_train, y_test = train_test_split(X, y, test_size=0.2, random_state=42)\n",
        "\n",
        "# Diccionarios para almacenar las métricas\n",
        "accuracies = {}\n",
        "f1_scores = {}\n",
        "\n",
        "# Entrenar cada modelo y calcular sus métricas\n",
        "for name, model in models.items():\n",
        "    model.fit(X_train, y_train)\n",
        "    y_pred = model.predict(X_test)\n",
        "    accuracies[name] = accuracy_score(y_test, y_pred)\n",
        "    f1_scores[name] = f1_score(y_test, y_pred)\n",
        "\n",
        "# Preparando los datos para el gráfico\n",
        "labels = list(models.keys())\n",
        "accuracy_values = [accuracies[model] for model in labels]\n",
        "f1_values = [f1_scores[model] for model in labels]\n",
        "\n",
        "# Resultados obtenidos en los puntos 7 y 8\n",
        "resultados_punto7 = {\n",
        "    'Árbol max_depth': {'accuracy': 0.658, 'f1_score': 0.656},\n",
        "    'Árbol min_samples_leaf': {'accuracy': 0.66, 'f1_score': 0.665},\n",
        "    'Regresión Logística': {'accuracy': 0.613, 'f1_score': 0.616},\n",
        "    # Agrega aquí los resultados de los modelos de votación si los tienes\n",
        "}\n",
        "\n",
        "resultados_punto8 = {\n",
        "    'Árbol max_depth': {'accuracy': 0.64, 'f1_score': 0.663},\n",
        "    'Árbol min_samples_leaf': {'accuracy': 0.572, 'f1_score': 0.567},\n",
        "    'Regresión Logística': {'accuracy': 0.613, 'f1_score': 0.61},\n",
        "    # Agrega aquí los resultados de los modelos de votación si los tienes\n",
        "}\n",
        "\n",
        "# Comparación de resultados\n",
        "print(\"Comparación de resultados entre Punto 7 y Punto 8:\")\n",
        "for modelo in resultados_punto7:\n",
        "    acc_punto7 = resultados_punto7[modelo]['accuracy']\n",
        "    f1_punto7 = resultados_punto7[modelo]['f1_score']\n",
        "    acc_punto8 = resultados_punto8[modelo]['accuracy']\n",
        "    f1_punto8 = resultados_punto8[modelo]['f1_score']\n",
        "    print(f\"Modelo: {modelo}\")\n",
        "    print(f\"\\tAccuracy Punto 7: {acc_punto7}, F1-Score Punto 7: {f1_punto7}\")\n",
        "    print(f\"\\tAccuracy Punto 8: {acc_punto8}, F1-Score Punto 8: {f1_punto8}\")\n",
        "    print()\n",
        "\n",
        "# Posibles ventajas y desventajas\n",
        "print(\"Posibles ventajas y desventajas:\")\n",
        "print(\"Punto 7:\")\n",
        "print(\"- Ventajas: Los modelos tienen un mejor desempeño en términos de accuracy y F1-score.\")\n",
        "print(\"- Desventajas: Pueden estar sobreajustados a los datos de entrenamiento.\")\n",
        "\n",
        "print(\"\\nPunto 8:\")\n",
        "print(\"- Ventajas: Se reduce el riesgo de sobreajuste al limitar la complejidad de los modelos.\")\n",
        "print(\"- Desventajas: Los modelos pueden ser menos flexibles y no capturar adecuadamente la complejidad de los datos.\")\n"
      ],
      "metadata": {
        "colab": {
          "base_uri": "https://localhost:8080/"
        },
        "id": "bzWN6kah3NW8",
        "outputId": "fe99019c-7d1f-44d7-c4a7-c8c4e6a2ae00"
      },
      "execution_count": 45,
      "outputs": [
        {
          "output_type": "stream",
          "name": "stdout",
          "text": [
            "Comparación de resultados entre Punto 7 y Punto 8:\n",
            "Modelo: Árbol max_depth\n",
            "\tAccuracy Punto 7: 0.658, F1-Score Punto 7: 0.656\n",
            "\tAccuracy Punto 8: 0.64, F1-Score Punto 8: 0.663\n",
            "\n",
            "Modelo: Árbol min_samples_leaf\n",
            "\tAccuracy Punto 7: 0.66, F1-Score Punto 7: 0.665\n",
            "\tAccuracy Punto 8: 0.572, F1-Score Punto 8: 0.567\n",
            "\n",
            "Modelo: Regresión Logística\n",
            "\tAccuracy Punto 7: 0.613, F1-Score Punto 7: 0.616\n",
            "\tAccuracy Punto 8: 0.613, F1-Score Punto 8: 0.61\n",
            "\n",
            "Posibles ventajas y desventajas:\n",
            "Punto 7:\n",
            "- Ventajas: Los modelos tienen un mejor desempeño en términos de accuracy y F1-score.\n",
            "- Desventajas: Pueden estar sobreajustados a los datos de entrenamiento.\n",
            "\n",
            "Punto 8:\n",
            "- Ventajas: Se reduce el riesgo de sobreajuste al limitar la complejidad de los modelos.\n",
            "- Desventajas: Los modelos pueden ser menos flexibles y no capturar adecuadamente la complejidad de los datos.\n"
          ]
        }
      ]
    },
    {
      "cell_type": "code",
      "source": [
        "import matplotlib.pyplot as plt\n",
        "\n",
        "# Definir los nombres de los modelos y las métricas\n",
        "model_names = ['Árbol max_depth', 'Árbol min_samples_leaf', 'Regresión Logística']\n",
        "\n",
        "# Métricas de accuracy y F1-score del punto 7\n",
        "accuracies_punto7 = [0.658, 0.66, 0.613]\n",
        "f1_scores_punto7 = [0.656, 0.665, 0.616]\n",
        "\n",
        "# Métricas de accuracy y F1-score del punto 8\n",
        "accuracies_punto8 = [0.64, 0.572, 0.613]\n",
        "f1_scores_punto8 = [0.663, 0.567, 0.61]\n",
        "\n",
        "# Crear la figura y los ejes\n",
        "fig, ax = plt.subplots(2, figsize=(10, 12))\n",
        "\n",
        "# Graficar las métricas de accuracy\n",
        "ax[0].barh(model_names, accuracies_punto7, color='lightblue', label='Punto 7')\n",
        "ax[0].barh(model_names, accuracies_punto8, color='skyblue', label='Punto 8', alpha=0.6)\n",
        "\n",
        "# Añadir etiquetas y título\n",
        "ax[0].set_xlabel('Accuracy')\n",
        "ax[0].set_title('Comparación de Accuracy entre Punto 7 y Punto 8')\n",
        "ax[0].legend()\n",
        "\n",
        "# Graficar las métricas de F1-score\n",
        "ax[1].barh(model_names, f1_scores_punto7, color='salmon', label='Punto 7')\n",
        "ax[1].barh(model_names, f1_scores_punto8, color='red', label='Punto 8', alpha=0.6)\n",
        "\n",
        "# Añadir etiquetas y título\n",
        "ax[1].set_xlabel('F1-Score')\n",
        "ax[1].set_title('Comparación de F1-Score entre Punto 7 y Punto 8')\n",
        "ax[1].legend()\n",
        "\n",
        "# Ajustar el espacio entre subgráficos\n",
        "plt.tight_layout()\n",
        "\n",
        "# Mostrar la gráfica\n",
        "plt.show()\n"
      ],
      "metadata": {
        "colab": {
          "base_uri": "https://localhost:8080/",
          "height": 1000
        },
        "id": "Tkz94rQr4OX2",
        "outputId": "ccd38a4a-896a-42b5-b7f6-74c309b33c4a"
      },
      "execution_count": 44,
      "outputs": [
        {
          "output_type": "display_data",
          "data": {
            "text/plain": [
              "<Figure size 1000x1200 with 2 Axes>"
            ],
            "image/png": "[encoded data removed]"
          },
          "metadata": {}
        }
      ]
    }
  ],
  "metadata": {
    "kernelspec": {
      "display_name": "Python 3 (ipykernel)",
      "language": "python",
      "name": "python3"
    },
    "language_info": {
      "codemirror_mode": {
        "name": "ipython",
        "version": 3
      },
      "file_extension": ".py",
      "mimetype": "text/x-python",
      "name": "python",
      "nbconvert_exporter": "python",
      "pygments_lexer": "ipython3",
      "version": "3.9.12"
    },
    "colab": {
      "provenance": [],
      "include_colab_link": true
    }
  },
  "nbformat": 4,
  "nbformat_minor": 0
}